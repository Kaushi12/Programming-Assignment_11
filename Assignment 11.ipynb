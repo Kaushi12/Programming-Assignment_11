{
 "cells": [
  {
   "cell_type": "code",
   "execution_count": 2,
   "metadata": {},
   "outputs": [
    {
     "name": "stdout",
     "output_type": "stream",
     "text": [
      "Enter a string: geek for geeks\n",
      "Enter the limit: 3\n",
      "['geek', 'geeks']\n"
     ]
    }
   ],
   "source": [
    "#Question 1\n",
    "s0=str(input(\"Enter a string: \"))\n",
    "k=int(input(\"Enter the limit: \"))\n",
    "string=[]\n",
    "text=s0.split(\" \")\n",
    "for i in text:\n",
    "    if len(i)>k:\n",
    "        string.append(i)\n",
    "print(string)"
   ]
  },
  {
   "cell_type": "code",
   "execution_count": 1,
   "metadata": {},
   "outputs": [
    {
     "name": "stdout",
     "output_type": "stream",
     "text": [
      "Enter a string: abcde\n",
      "At which position you want to remove the character: 3\n",
      "abce\n"
     ]
    }
   ],
   "source": [
    "#Question 2\n",
    "s1=str(input(\"Enter a string: \"))\n",
    "i=int(input(\"At which position you want to remove the character: \"))\n",
    "a=s1[ : i]\n",
    "b=s1[i+1: ]\n",
    "print(a+b)\n"
   ]
  },
  {
   "cell_type": "code",
   "execution_count": 2,
   "metadata": {},
   "outputs": [
    {
     "name": "stdout",
     "output_type": "stream",
     "text": [
      "Enter a string: This is a pen\n",
      "This-is-a-pen\n"
     ]
    }
   ],
   "source": [
    "#Question 3\n",
    "s2=str(input(\"Enter a string: \"))\n",
    "a=s2.split(' ')\n",
    "b=\"-\".join(a)\n",
    "print(b)"
   ]
  },
  {
   "cell_type": "code",
   "execution_count": 36,
   "metadata": {},
   "outputs": [
    {
     "name": "stdout",
     "output_type": "stream",
     "text": [
      "Enter a string: 01021\n",
      "String is not a binary string\n"
     ]
    }
   ],
   "source": [
    "#Question 4\n",
    "s3=str(input(\"Enter a string: \"))\n",
    "b = '10'\n",
    "count=0\n",
    "for char in s3:\n",
    "       if char not in b:\n",
    "          count = 1\n",
    "          break\n",
    "       else:\n",
    "          pass\n",
    "if count:\n",
    "   print(\"String is not a binary string\")\n",
    "else:\n",
    "   print(\"String is a binary string\")"
   ]
  },
  {
   "cell_type": "code",
   "execution_count": 39,
   "metadata": {},
   "outputs": [
    {
     "name": "stdout",
     "output_type": "stream",
     "text": [
      "Enter a string: apple banana mango\n",
      "Enter a string: banana fruits mango\n",
      " apple fruits\n"
     ]
    }
   ],
   "source": [
    "#Question 5\n",
    "a=str(input(\"Enter a string: \"))\n",
    "b=str(input(\"Enter a string: \"))\n",
    "list_a = a.split()\n",
    "list_b = b.split()\n",
    "uc = ''\n",
    "for i in list_a:\n",
    "    if i not in list_b:\n",
    "        uc = uc+\" \"+i\n",
    "for j in list_b:\n",
    "    if j not in list_a:\n",
    "        uc = uc+\" \"+j\n",
    "print(uc)"
   ]
  },
  {
   "cell_type": "code",
   "execution_count": 42,
   "metadata": {},
   "outputs": [
    {
     "name": "stdout",
     "output_type": "stream",
     "text": [
      "Enter a string: Great responsibility\n",
      "Duplicate characters in a given string: \n",
      "r\n",
      "e\n",
      "t\n",
      "s\n",
      "i\n"
     ]
    }
   ],
   "source": [
    "#Question 6\n",
    "s4=str(input(\"Enter a string: \"))\n",
    "print(\"Duplicate characters in a given string: \");  \n",
    "#Counts each character present in the string  \n",
    "for i in range(0, len(s4)):  \n",
    "    count = 1;  \n",
    "    for j in range(i+1, len(s4)):  \n",
    "        if(s4[i] == s4[j] and s4[i] != ' '):  \n",
    "            count = count + 1;  \n",
    "            #Set string[j] to 0 to avoid printing visited character  \n",
    "            s4 = s4[:j] + '0' + s4[j+1:];  \n",
    "   \n",
    "    #A character is considered as duplicate if count is greater than 1  \n",
    "    if(count > 1 and s4[i] != '0'):  \n",
    "        print(s4[i]) \n",
    "    "
   ]
  },
  {
   "cell_type": "code",
   "execution_count": 6,
   "metadata": {},
   "outputs": [
    {
     "name": "stdout",
     "output_type": "stream",
     "text": [
      "abc#tr%y!\n",
      "yes\n"
     ]
    }
   ],
   "source": [
    "#Question 7\n",
    "special_characters = \"!@#$%^&*()-+?_=,<>/\"\n",
    "s=input()\n",
    "\n",
    "if any(c in special_characters for c in s):\n",
    "    print(\"yes\")\n",
    "else:\n",
    "    print(\"no\")\n",
    " "
   ]
  },
  {
   "cell_type": "code",
   "execution_count": null,
   "metadata": {},
   "outputs": [],
   "source": []
  }
 ],
 "metadata": {
  "kernelspec": {
   "display_name": "Python 3",
   "language": "python",
   "name": "python3"
  },
  "language_info": {
   "codemirror_mode": {
    "name": "ipython",
    "version": 3
   },
   "file_extension": ".py",
   "mimetype": "text/x-python",
   "name": "python",
   "nbconvert_exporter": "python",
   "pygments_lexer": "ipython3",
   "version": "3.8.5"
  }
 },
 "nbformat": 4,
 "nbformat_minor": 4
}
